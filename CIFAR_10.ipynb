{
  "nbformat": 4,
  "nbformat_minor": 0,
  "metadata": {
    "colab": {
      "name": "CIFAR-10.ipynb",
      "version": "0.3.2",
      "provenance": [],
      "collapsed_sections": [],
      "include_colab_link": true
    },
    "kernelspec": {
      "name": "python3",
      "display_name": "Python 3"
    },
    "accelerator": "GPU"
  },
  "cells": [
    {
      "cell_type": "markdown",
      "metadata": {
        "id": "view-in-github",
        "colab_type": "text"
      },
      "source": [
        "[View in Colaboratory](https://colab.research.google.com/github/rajaswa/Google_Collaboratory_Projects/blob/master/CIFAR_10.ipynb)"
      ]
    },
    {
      "metadata": {
        "id": "S1sEcue0BLBA",
        "colab_type": "code",
        "colab": {
          "base_uri": "https://localhost:8080/",
          "height": 353
        },
        "outputId": "4ce36ae4-8da5-4b80-b1b1-8a8f3ab64869"
      },
      "cell_type": "code",
      "source": [
        "!wget http://www.cs.toronto.edu/~kriz/cifar-10-python.tar.gz  && tar -xvf cifar-10-python.tar.gz"
      ],
      "execution_count": 127,
      "outputs": [
        {
          "output_type": "stream",
          "text": [
            "--2018-08-02 12:43:37--  http://www.cs.toronto.edu/~kriz/cifar-10-python.tar.gz\n",
            "Resolving www.cs.toronto.edu (www.cs.toronto.edu)... 128.100.3.30\n",
            "Connecting to www.cs.toronto.edu (www.cs.toronto.edu)|128.100.3.30|:80... connected.\n",
            "HTTP request sent, awaiting response... 200 OK\n",
            "Length: 170498071 (163M) [application/x-gzip]\n",
            "Saving to: ‘cifar-10-python.tar.gz.2’\n",
            "\n",
            "cifar-10-python.tar 100%[===================>] 162.60M  9.04MB/s    in 18s     \n",
            "\n",
            "2018-08-02 12:43:55 (9.02 MB/s) - ‘cifar-10-python.tar.gz.2’ saved [170498071/170498071]\n",
            "\n",
            "cifar-10-batches-py/\n",
            "cifar-10-batches-py/data_batch_4\n",
            "cifar-10-batches-py/readme.html\n",
            "cifar-10-batches-py/test_batch\n",
            "cifar-10-batches-py/data_batch_3\n",
            "cifar-10-batches-py/batches.meta\n",
            "cifar-10-batches-py/data_batch_2\n",
            "cifar-10-batches-py/data_batch_5\n",
            "cifar-10-batches-py/data_batch_1\n"
          ],
          "name": "stdout"
        }
      ]
    },
    {
      "metadata": {
        "id": "NBFxqntUCCaC",
        "colab_type": "code",
        "colab": {
          "base_uri": "https://localhost:8080/",
          "height": 168
        },
        "outputId": "b58efc44-3671-402e-aa16-c6c0c215a1e1"
      },
      "cell_type": "code",
      "source": [
        "!ls -R"
      ],
      "execution_count": 128,
      "outputs": [
        {
          "output_type": "stream",
          "text": [
            ".:\r\n",
            "cifar-10-batches-py\tcifar-10-python.tar.gz.1  datalab\r\n",
            "cifar-10-python.tar.gz\tcifar-10-python.tar.gz.2\r\n",
            "\r\n",
            "./cifar-10-batches-py:\r\n",
            "batches.meta  data_batch_2  data_batch_4  readme.html\r\n",
            "data_batch_1  data_batch_3  data_batch_5  test_batch\r\n",
            "\r\n",
            "./datalab:\r\n"
          ],
          "name": "stdout"
        }
      ]
    },
    {
      "metadata": {
        "id": "RUKFPCXRCIRm",
        "colab_type": "code",
        "colab": {}
      },
      "cell_type": "code",
      "source": [
        "#Extracting pickled data function\n",
        "def unpickle(file):\n",
        "    import pickle\n",
        "    with open(file, 'rb') as fo:\n",
        "        dict = pickle.load(fo, encoding='bytes')\n",
        "    return dict"
      ],
      "execution_count": 0,
      "outputs": []
    },
    {
      "metadata": {
        "id": "97SYsyrTCdf4",
        "colab_type": "code",
        "colab": {}
      },
      "cell_type": "code",
      "source": [
        "#extracting dictionaries\n",
        "\n",
        "#extracting the train data \n",
        "batch1_dict = unpickle(\"cifar-10-batches-py/data_batch_1\")\n",
        "batch2_dict = unpickle(\"cifar-10-batches-py/data_batch_2\")\n",
        "batch3_dict = unpickle(\"cifar-10-batches-py/data_batch_3\")\n",
        "batch4_dict = unpickle(\"cifar-10-batches-py/data_batch_4\")\n",
        "batch5_dict = unpickle(\"cifar-10-batches-py/data_batch_5\")\n",
        "\n",
        "#extracting the test data\n",
        "test_dict = unpickle(\"cifar-10-batches-py/test_batch\")\n",
        "\n",
        "#extracting the meta data\n",
        "meta_dict = unpickle(\"cifar-10-batches-py/batches.meta\")\n"
      ],
      "execution_count": 0,
      "outputs": []
    },
    {
      "metadata": {
        "id": "rb16jtSYDMNJ",
        "colab_type": "code",
        "colab": {
          "base_uri": "https://localhost:8080/",
          "height": 34
        },
        "outputId": "2f6189bc-29fc-4df9-915a-2741441b10fd"
      },
      "cell_type": "code",
      "source": [
        "#Checking keys of all the dataset dictionaries\n",
        "\n",
        "#batch1_dict.keys()\n",
        "test_dict.keys()\n",
        "#meta_dict.keys()"
      ],
      "execution_count": 131,
      "outputs": [
        {
          "output_type": "execute_result",
          "data": {
            "text/plain": [
              "dict_keys([b'batch_label', b'labels', b'data', b'filenames'])"
            ]
          },
          "metadata": {
            "tags": []
          },
          "execution_count": 131
        }
      ]
    },
    {
      "metadata": {
        "id": "Pnbi1QkwDcco",
        "colab_type": "code",
        "colab": {}
      },
      "cell_type": "code",
      "source": [
        "#separating pixel feature data and label data into lists\n",
        "\n",
        "#pixel feature data\n",
        "xbatch_1 = batch1_dict[b'data']\n",
        "xbatch_2 = batch2_dict[b'data']\n",
        "xbatch_3 = batch3_dict[b'data']\n",
        "xbatch_4 = batch4_dict[b'data']\n",
        "xbatch_5 = batch5_dict[b'data']\n",
        "\n",
        "xtest = test_dict[b'data']\n",
        "\n",
        "#label data\n",
        "ybatch_1 = batch1_dict[b'labels']\n",
        "ybatch_2 = batch2_dict[b'labels']\n",
        "ybatch_3 = batch3_dict[b'labels']\n",
        "ybatch_4 = batch4_dict[b'labels']\n",
        "ybatch_5 = batch5_dict[b'labels']\n",
        "\n",
        "ytest = test_dict[b'labels']"
      ],
      "execution_count": 0,
      "outputs": []
    },
    {
      "metadata": {
        "id": "PcQ3_3tCFiSo",
        "colab_type": "code",
        "colab": {}
      },
      "cell_type": "code",
      "source": [
        "'''INSTALLING PYTORCH'''\n",
        "\n",
        "\n",
        "# http://pytorch.org/\n",
        "from os import path\n",
        "from wheel.pep425tags import get_abbr_impl, get_impl_ver, get_abi_tag\n",
        "platform = '{}{}-{}'.format(get_abbr_impl(), get_impl_ver(), get_abi_tag())\n",
        "\n",
        "accelerator = 'cu80' if path.exists('/opt/bin/nvidia-smi') else 'cpu'\n",
        "\n",
        "!pip install -q http://download.pytorch.org/whl/{accelerator}/torch-0.3.0.post4-{platform}-linux_x86_64.whl torchvision\n",
        "import torch\n"
      ],
      "execution_count": 0,
      "outputs": []
    },
    {
      "metadata": {
        "id": "sRK9ajDIDxgC",
        "colab_type": "code",
        "colab": {}
      },
      "cell_type": "code",
      "source": [
        "'''IMPORTS'''\n",
        "\n",
        "import numpy as np\n",
        "\n",
        "import random\n",
        "\n",
        "import matplotlib.pyplot as plt\n",
        "import matplotlib.image as mpimg\n",
        "%matplotlib inline\n",
        "\n",
        "from __future__ import print_function, division\n",
        "import os\n",
        "import torch\n",
        "import torch.nn as nn\n",
        "from skimage import io, transform\n",
        "from torch.utils.data import Dataset, DataLoader\n",
        "from torchvision import transforms, utils\n",
        "from torch.autograd import Variable\n",
        "\n",
        "# Ignore warnings\n",
        "import warnings\n",
        "warnings.filterwarnings(\"ignore\")\n",
        "\n",
        "plt.ion()   # interactive mode\n",
        "\n",
        "import torch.utils.data as utils"
      ],
      "execution_count": 0,
      "outputs": []
    },
    {
      "metadata": {
        "id": "E-sFYUEaGzbe",
        "colab_type": "code",
        "colab": {}
      },
      "cell_type": "code",
      "source": [
        "#Converting everything into numpy arrays\n",
        "\n",
        "xbatch1 = np.array(xbatch_1)\n",
        "xbatch2 = np.array(xbatch_2)\n",
        "xbatch3 = np.array(xbatch_3)\n",
        "xbatch4 = np.array(xbatch_4)\n",
        "xbatch5 = np.array(xbatch_5)\n",
        "\n",
        "x_test = np.array(xtest)\n",
        "\n",
        "ybatch1 = np.array(ybatch_1)\n",
        "ybatch2 = np.array(ybatch_2)\n",
        "ybatch3 = np.array(ybatch_3)\n",
        "ybatch4 = np.array(ybatch_4)\n",
        "ybatch5 = np.array(ybatch_5)\n",
        "\n",
        "y_test = np.array(ytest)"
      ],
      "execution_count": 0,
      "outputs": []
    },
    {
      "metadata": {
        "id": "lQsunTlIFeRR",
        "colab_type": "code",
        "colab": {}
      },
      "cell_type": "code",
      "source": [
        "#creating train dataset list and validation dataset list\n",
        "\n",
        "#TRAIN : batch1+ batch2 + batch3 + batch4\n",
        "x_train = np.concatenate((xbatch1, xbatch2, xbatch3, xbatch4))\n",
        "y_train = np.concatenate((ybatch1, ybatch2, ybatch3, ybatch4))\n",
        " \n",
        "#VALID : batch5\n",
        "\n",
        "x_valid = xbatch5\n",
        "y_valid = ybatch5"
      ],
      "execution_count": 0,
      "outputs": []
    },
    {
      "metadata": {
        "id": "Yy3sWchnHkSa",
        "colab_type": "code",
        "colab": {
          "base_uri": "https://localhost:8080/",
          "height": 34
        },
        "outputId": "7f1bcad4-a5aa-4811-a723-be9c8ae2189d"
      },
      "cell_type": "code",
      "source": [
        "#Getting clarity on initial dimesnions\n",
        "\n",
        "np.shape(x_train)\n",
        "#np.shape(x_valid)\n",
        "#np.shape(x_test)\n",
        "\n",
        "#np.shape(y_train)\n",
        "#np.shape(y_valid)\n",
        "#np.shape(y_test)"
      ],
      "execution_count": 137,
      "outputs": [
        {
          "output_type": "execute_result",
          "data": {
            "text/plain": [
              "(40000, 3072)"
            ]
          },
          "metadata": {
            "tags": []
          },
          "execution_count": 137
        }
      ]
    },
    {
      "metadata": {
        "id": "NGCHeYPmRWdz",
        "colab_type": "code",
        "colab": {}
      },
      "cell_type": "code",
      "source": [
        "#dataset reshape function  ex : 40000*3072 --> 40000*32*32*3 RGB\n",
        "\n",
        "def image_reshape(dataset):\n",
        "  new_reshaped = []\n",
        "  for i in range (np.shape(dataset)[0]):\n",
        "    r = dataset[i][:1024]\n",
        "    g = dataset[i][1024:2048]\n",
        "    b = dataset[i][2048:3072]\n",
        "    r = np.reshape(r,(32, 32))\n",
        "    g = np.reshape(g,(32, 32))\n",
        "    b = np.reshape(b,(32, 32))\n",
        "    rgb = np.dstack((r,g,b))\n",
        "    new_reshaped.append(rgb)\n",
        "    \n",
        "  new_reshaped = np.array(new_reshaped)\n",
        "  return new_reshaped"
      ],
      "execution_count": 0,
      "outputs": []
    },
    {
      "metadata": {
        "id": "X_a72rRuTKwT",
        "colab_type": "code",
        "colab": {}
      },
      "cell_type": "code",
      "source": [
        "#reshaping the feature data\n",
        "\n",
        "x_train = image_reshape(x_train)\n",
        "x_test = image_reshape(x_test)\n",
        "x_valid = image_reshape(x_valid)"
      ],
      "execution_count": 0,
      "outputs": []
    },
    {
      "metadata": {
        "id": "H7D1SpzOqO7s",
        "colab_type": "code",
        "colab": {}
      },
      "cell_type": "code",
      "source": [
        "#creating duplicate samples\n",
        "\n",
        "x_train2 = np.fliplr(x_train)\n",
        "x_train2 = np.rot90(x_train2, k=2, axes=(1,2))"
      ],
      "execution_count": 0,
      "outputs": []
    },
    {
      "metadata": {
        "id": "gyFG390xcgYG",
        "colab_type": "code",
        "colab": {
          "base_uri": "https://localhost:8080/",
          "height": 281
        },
        "outputId": "491f515b-a1f6-4322-ae16-335bb8405bff"
      },
      "cell_type": "code",
      "source": [
        "#visualizing original data samples\n",
        "\n",
        "import matplotlib.pyplot as plt\n",
        "import matplotlib.image as mpimg\n",
        "%matplotlib inline\n",
        "\n",
        "#imgplot = plt.imshow(x_train[random.randint(0,40000)])\n",
        "imgplot = plt.imshow(x_train[5])"
      ],
      "execution_count": 141,
      "outputs": [
        {
          "output_type": "display_data",
          "data": {
            "image/png": "[encoded data removed]",
            "text/plain": [
              "<matplotlib.figure.Figure at 0x7f3e15cfa080>"
            ]
          },
          "metadata": {
            "tags": []
          }
        }
      ]
    },
    {
      "metadata": {
        "id": "rJUBzbg_qrt4",
        "colab_type": "code",
        "colab": {
          "base_uri": "https://localhost:8080/",
          "height": 281
        },
        "outputId": "acd38cc5-0582-422e-e66e-18a48171421f"
      },
      "cell_type": "code",
      "source": [
        "#visualizing duplicate data samples\n",
        "\n",
        "import matplotlib.pyplot as plt\n",
        "import matplotlib.image as mpimg\n",
        "%matplotlib inline\n",
        "\n",
        "#imgplot = plt.imshow(x_train[random.randint(0,40000)])\n",
        "imgplot = plt.imshow(x_train2[5])"
      ],
      "execution_count": 142,
      "outputs": [
        {
          "output_type": "display_data",
          "data": {
            "image/png": "[encoded data removed]",
            "text/plain": [
              "<matplotlib.figure.Figure at 0x7f3e55429470>"
            ]
          },
          "metadata": {
            "tags": []
          }
        }
      ]
    },
    {
      "metadata": {
        "id": "IYY4QLsZsaPa",
        "colab_type": "code",
        "colab": {}
      },
      "cell_type": "code",
      "source": [
        "x_train = np.concatenate((x_train, x_train2))\n",
        "y_train = np.concatenate((y_train, y_train))"
      ],
      "execution_count": 0,
      "outputs": []
    },
    {
      "metadata": {
        "id": "CbC3hCYETfZB",
        "colab_type": "code",
        "colab": {
          "base_uri": "https://localhost:8080/",
          "height": 34
        },
        "outputId": "71e5f718-b595-4593-9a5d-66e9c1ecaa60"
      },
      "cell_type": "code",
      "source": [
        "#checking reshaped dimensions dimesnions\n",
        "\n",
        "np.shape(x_train)\n",
        "#np.shape(x_valid)\n",
        "#np.shape(x_test)\n",
        "\n",
        "#np.shape(y_train)\n",
        "#np.shape(y_valid)\n",
        "#np.shape(y_test)"
      ],
      "execution_count": 144,
      "outputs": [
        {
          "output_type": "execute_result",
          "data": {
            "text/plain": [
              "(80000, 32, 32, 3)"
            ]
          },
          "metadata": {
            "tags": []
          },
          "execution_count": 144
        }
      ]
    },
    {
      "metadata": {
        "id": "Ti-iO__DYW9e",
        "colab_type": "code",
        "colab": {}
      },
      "cell_type": "code",
      "source": [
        "#Taking transpose to match the argument syntax for pytorch       i.e 32*32*3 --> 3*32*32\n",
        "\n",
        "x_train = x_train.transpose((0, 3, 1, 2))\n",
        "x_test = x_test.transpose((0, 3, 1, 2))\n",
        "x_valid = x_valid.transpose((0, 3, 1, 2))"
      ],
      "execution_count": 0,
      "outputs": []
    },
    {
      "metadata": {
        "id": "uqoYMHT4ZGK5",
        "colab_type": "code",
        "colab": {}
      },
      "cell_type": "code",
      "source": [
        "#preprocessing functions\n",
        "\n",
        "def normalize(x):\n",
        "    return (x.astype(float) - 32) / 32"
      ],
      "execution_count": 0,
      "outputs": []
    },
    {
      "metadata": {
        "id": "2YmkHCmtaTRw",
        "colab_type": "code",
        "colab": {}
      },
      "cell_type": "code",
      "source": [
        "#preprocessing feature data\n",
        "\n",
        "xtrain_norm = normalize(x_train)\n",
        "xtest_norm = normalize(x_test)\n",
        "xvalid_norm = normalize(x_valid)"
      ],
      "execution_count": 0,
      "outputs": []
    },
    {
      "metadata": {
        "id": "jvimGxKTakuk",
        "colab_type": "code",
        "colab": {}
      },
      "cell_type": "code",
      "source": [
        "#converting to torch tensors\n",
        "\n",
        "xtrainTensor = torch.from_numpy(xtrain_norm)\n",
        "xtestTensor = torch.from_numpy(xtest_norm)\n",
        "xvalidTensor = torch.from_numpy(xvalid_norm)\n",
        "\n",
        "ytrainTensor = torch.from_numpy(y_train).long()\n",
        "ytestTensor = torch.from_numpy(y_test).long()\n",
        "yvalidTensor = torch.from_numpy(y_valid).long()"
      ],
      "execution_count": 0,
      "outputs": []
    },
    {
      "metadata": {
        "id": "RuhneM56arHm",
        "colab_type": "code",
        "colab": {}
      },
      "cell_type": "code",
      "source": [
        "#creating tensor datasets\n",
        "\n",
        "train_dataset = utils.TensorDataset(xtrainTensor, ytrainTensor) \n",
        "test_dataset = utils.TensorDataset(xtestTensor, ytestTensor)\n",
        "valid_dataset = utils.TensorDataset(xvalidTensor, yvalidTensor)"
      ],
      "execution_count": 0,
      "outputs": []
    },
    {
      "metadata": {
        "id": "Livjb4ISbGW2",
        "colab_type": "code",
        "colab": {}
      },
      "cell_type": "code",
      "source": [
        "#creating loaders\n",
        "\n",
        "batch_size = 128\n",
        "\n",
        "train_loader = torch.utils.data.DataLoader(dataset=train_dataset,\n",
        "                                           batch_size=batch_size,\n",
        "                                           shuffle=False)\n",
        "test_loader = torch.utils.data.DataLoader(dataset=test_dataset,\n",
        "                                          batch_size=batch_size,\n",
        "                                          shuffle=False)\n",
        "valid_loader = torch.utils.data.DataLoader(dataset=valid_dataset,\n",
        "                                          batch_size=batch_size,\n",
        "                                          shuffle=False)\n"
      ],
      "execution_count": 0,
      "outputs": []
    },
    {
      "metadata": {
        "id": "PeQfTHwibRVx",
        "colab_type": "code",
        "colab": {}
      },
      "cell_type": "code",
      "source": [
        "#deciding the number of epochs\n",
        "\n",
        "n_iters = 2048\n",
        "num_epochs = n_iters / (len(train_dataset) / batch_size)\n",
        "num_epochs = int(num_epochs)\n",
        "num_epochs = 6"
      ],
      "execution_count": 0,
      "outputs": []
    },
    {
      "metadata": {
        "id": "3-A4p0lIbZqR",
        "colab_type": "code",
        "colab": {}
      },
      "cell_type": "code",
      "source": [
        "#Making the model class\n",
        "\n",
        "class CNN(nn.Module):\n",
        "    def __init__(self):\n",
        "        super(CNN, self).__init__()\n",
        "        \n",
        "        #Convolution 1\n",
        "        self.cnn1 = nn.Conv2d(in_channels = 3, out_channels = 16, kernel_size = 3, stride = 1, padding = 1)\n",
        "        self.relu1 = nn.ReLU()\n",
        "        self.norm1 = nn.BatchNorm2d(16)\n",
        "        \n",
        "        #maxpool1\n",
        "        self.maxpool1 = nn.MaxPool2d(kernel_size = 2)\n",
        "        \n",
        "        \n",
        "        #convolution2\n",
        "        self.cnn2 = nn.Conv2d(in_channels = 16, out_channels = 32, kernel_size = 3, stride = 1, padding = 1)\n",
        "        self.relu2 = nn.ReLU()\n",
        "        self.norm2 = nn.BatchNorm2d(32)\n",
        "        \n",
        "        #maxpool2\n",
        "        self.maxpool2 = nn.MaxPool2d(kernel_size = 2)\n",
        "        \n",
        "        #convolution3\n",
        "        self.cnn3 = nn.Conv2d(in_channels = 32, out_channels = 64, kernel_size = 3, stride = 1, padding = 1)\n",
        "        self.relu3 = nn.ReLU()\n",
        "        self.norm3 = nn.BatchNorm2d(64)\n",
        "        \n",
        "        #maxpool3\n",
        "        self.maxpool3 = nn.MaxPool2d(kernel_size = 2)\n",
        "        \n",
        "        \n",
        "        #FC layer\n",
        "        self.fc1 = nn.Linear(64*4*4, 64*4*4)\n",
        "        \n",
        "        #relu3\n",
        "        self.relu3 = nn.ReLU()\n",
        "        self.fc2 = nn.Linear(64*4*4, 10)\n",
        "        \n",
        "        self.norm1d = nn.BatchNorm1d(64*4*4)\n",
        "        self.normfc = nn.BatchNorm1d(10)\n",
        "        \n",
        "    def forward(self, x):\n",
        "        #cnn1\n",
        "        out = self.cnn1(x)\n",
        "        out = self.relu1(out)\n",
        "        out = self.norm1(out)\n",
        "        \n",
        "        #maxpool1\n",
        "        out = self.maxpool1(out)\n",
        "        m = nn.Dropout2d(p=0.2)\n",
        "        out = m(out)\n",
        "        \n",
        "        #cnn2\n",
        "        out = self.cnn2(out)    \n",
        "        out = self.relu2(out)\n",
        "        out = self.norm2(out)\n",
        "        \n",
        "        #maxpool2\n",
        "        out = self.maxpool2(out)\n",
        "        m = nn.Dropout2d(p=0.2)\n",
        "        out = m(out)\n",
        "        \n",
        "        #cnn3\n",
        "        out = self.cnn3(out)    \n",
        "        out = self.relu3(out)\n",
        "        out = self.norm3(out)\n",
        "        \n",
        "        #maxpool3\n",
        "        out = self.maxpool3(out)\n",
        "        m = nn.Dropout2d(p=0.2)\n",
        "        out = m(out)\n",
        "        #resize \n",
        "        out = out.view(out.size(0), -1)\n",
        "        \n",
        "        #linear function (readout)\n",
        "        out = self.fc1(out)        \n",
        "        out = self.relu3(out)\n",
        "        out = self.norm1d(out)\n",
        "        \n",
        "        out = self.fc1(out)        \n",
        "        out = self.relu3(out)\n",
        "        out = self.norm1d(out)\n",
        "        \n",
        "        \n",
        "        out = self.fc2(out)\n",
        "        \n",
        "        \n",
        "        return out"
      ],
      "execution_count": 0,
      "outputs": []
    },
    {
      "metadata": {
        "id": "0CqHTI7muvw4",
        "colab_type": "code",
        "colab": {}
      },
      "cell_type": "code",
      "source": [
        "#Making the model class\n",
        "\n",
        "class DeeperModel(nn.Module):\n",
        "    def __init__(self):\n",
        "        super(DeeperModel, self).__init__()\n",
        "        \n",
        "        #Convolution 1\n",
        "        self.cnn1 = nn.Conv2d(in_channels = 3, out_channels = 16, kernel_size = 3, stride = 1, padding = 1)\n",
        "        self.relu1 = nn.ReLU()\n",
        "        self.norm1 = nn.BatchNorm2d(16)\n",
        "        \n",
        "        #maxpool1\n",
        "        self.maxpool1 = nn.MaxPool2d(kernel_size = 2)\n",
        "        \n",
        "        \n",
        "        #convolution2\n",
        "        self.cnn2 = nn.Conv2d(in_channels = 16, out_channels = 32, kernel_size = 3, stride = 1, padding = 1)\n",
        "        self.relu2 = nn.ReLU()\n",
        "        self.norm2 = nn.BatchNorm2d(32)\n",
        "        \n",
        "        #maxpool2\n",
        "        self.maxpool2 = nn.MaxPool2d(kernel_size = 2)\n",
        "        \n",
        "        #convolution3\n",
        "        self.cnn3 = nn.Conv2d(in_channels = 32, out_channels = 64, kernel_size = 3, stride = 1, padding = 1)\n",
        "        self.relu3 = nn.ReLU()\n",
        "        self.norm3 = nn.BatchNorm2d(64)\n",
        "        \n",
        "        #maxpool3\n",
        "        self.maxpool3 = nn.MaxPool2d(kernel_size = 2)\n",
        "        \n",
        "        #convolution4\n",
        "        self.cnn4 = nn.Conv2d(in_channels = 64, out_channels = 128, kernel_size = 3, stride = 1, padding = 1)\n",
        "        self.relu4 = nn.ReLU()\n",
        "        self.norm4 = nn.BatchNorm2d(128)\n",
        "        \n",
        "        #maxpool4\n",
        "        self.maxpool4 = nn.MaxPool2d(kernel_size = 2)\n",
        "        \n",
        "        #convolution5\n",
        "        self.cnn5 = nn.Conv2d(in_channels = 128, out_channels = 256, kernel_size = 3, stride = 1, padding = 1)\n",
        "        self.relu5 = nn.ReLU()\n",
        "        self.norm5 = nn.BatchNorm2d(256)\n",
        "        \n",
        "        \n",
        "        #FC layer\n",
        "        self.fc1 = nn.Linear(256*1*1, 256*1*1)\n",
        "        \n",
        "        #relu3\n",
        "        self.relu3 = nn.ReLU()\n",
        "        self.fc2 = nn.Linear(256*1*1, 10)\n",
        "        \n",
        "        self.norm1d = nn.BatchNorm1d(256*1*1)\n",
        "        self.normfc = nn.BatchNorm1d(10)\n",
        "        \n",
        "    def forward(self, x):\n",
        "        #cnn1\n",
        "        out = self.cnn1(x)\n",
        "        out = self.relu1(out)\n",
        "        out = self.norm1(out)\n",
        "        \n",
        "        #maxpool1\n",
        "        out = self.maxpool1(out)\n",
        "        m = nn.Dropout2d(p=0.2)\n",
        "        out = m(out)\n",
        "        \n",
        "        #cnn2\n",
        "        out = self.cnn2(out)    \n",
        "        out = self.relu2(out)\n",
        "        out = self.norm2(out)\n",
        "        \n",
        "        #maxpool2\n",
        "        out = self.maxpool2(out)\n",
        "        m = nn.Dropout2d(p=0.2)\n",
        "        out = m(out)\n",
        "        \n",
        "        #cnn3\n",
        "        out = self.cnn3(out)    \n",
        "        out = self.relu3(out)\n",
        "        out = self.norm3(out)\n",
        "        \n",
        "        #maxpool4\n",
        "        out = self.maxpool3(out)\n",
        "        m = nn.Dropout2d(p=0.1)\n",
        "        out = m(out)\n",
        "        \n",
        "        #cnn4\n",
        "        out = self.cnn4(out)    \n",
        "        out = self.relu4(out)\n",
        "        out = self.norm4(out)\n",
        "        \n",
        "        #maxpool4\n",
        "        out = self.maxpool4(out)\n",
        "        m = nn.Dropout2d(p=0.1)\n",
        "        out = m(out)\n",
        "        \n",
        "        #cnn5\n",
        "        out = self.cnn5(out)    \n",
        "        out = self.relu5(out)\n",
        "        out = self.norm5(out)\n",
        "        \n",
        "        #maxpool4\n",
        "        out = self.maxpool4(out)\n",
        "        m = nn.Dropout2d(p=0.1)\n",
        "        out = m(out)\n",
        "      \n",
        "        \n",
        "        #resize \n",
        "        out = out.view(out.size(0), -1)\n",
        "        \n",
        "        #linear function (readout)\n",
        "        out = self.fc1(out)        \n",
        "        out = self.relu3(out)\n",
        "        out = self.norm1d(out)\n",
        "       \n",
        "              \n",
        "        out = self.fc2(out)\n",
        "        out = self.normfc(out)\n",
        "        \n",
        "        return out"
      ],
      "execution_count": 0,
      "outputs": []
    },
    {
      "metadata": {
        "id": "FWoWQobfbk8U",
        "colab_type": "code",
        "colab": {}
      },
      "cell_type": "code",
      "source": [
        "#Instantiating the Model\n",
        "\n",
        "#model = CNN()\n",
        "model = DeeperModel()\n",
        "model = model.double()\n",
        "\n",
        "if torch.cuda.is_available:\n",
        "    model.cuda() #Model on GPU"
      ],
      "execution_count": 0,
      "outputs": []
    },
    {
      "metadata": {
        "id": "cVfGTdhKbslc",
        "colab_type": "code",
        "colab": {}
      },
      "cell_type": "code",
      "source": [
        "#Loss criteria\n",
        "\n",
        "criterion = nn.CrossEntropyLoss()"
      ],
      "execution_count": 0,
      "outputs": []
    },
    {
      "metadata": {
        "id": "5wcFuWxqbxF0",
        "colab_type": "code",
        "colab": {}
      },
      "cell_type": "code",
      "source": [
        "#Optimiztion details and initialization\n",
        "\n",
        "learning_rate = 0.01\n",
        "moment = 0.4\n",
        "#optimizer = torch.optim.SGD(model.parameters(), lr = learning_rate, momentum = moment, nesterov = False)\n",
        "optimizer = torch.optim.Adamax(model.parameters(), lr = learning_rate)"
      ],
      "execution_count": 0,
      "outputs": []
    },
    {
      "metadata": {
        "id": "sNV951xEb4a5",
        "colab_type": "code",
        "colab": {
          "base_uri": "https://localhost:8080/",
          "height": 622
        },
        "outputId": "88f3c7a2-2d88-4d81-d3da-45dc22576498"
      },
      "cell_type": "code",
      "source": [
        "#Training the model\n",
        "\n",
        "losses = [];\n",
        "for epoch in range(num_epochs):\n",
        "    for i, (images, labels) in enumerate(train_loader):\n",
        "        if torch.cuda.is_available:\n",
        "            images = Variable(images.cuda())\n",
        "            labels = Variable(labels.cuda())\n",
        "        else:\n",
        "            images = Variable(images.float())\n",
        "            labels = Variable(labels)\n",
        "        \n",
        "        # Forward + Backward + Optimize\n",
        "        optimizer.zero_grad()\n",
        "        outputs = model(images)\n",
        "        loss = criterion(outputs, labels)\n",
        "        loss.backward()\n",
        "        optimizer.step()\n",
        "        \n",
        "        losses.append(loss.data[0]);\n",
        "        \n",
        "        if (i+1) % 100 == 0:\n",
        "            print ('Epoch : %d/%d, Iter : %d/%d,  Loss: %.4f' \n",
        "                   %(epoch+1, num_epochs, i+1, len(train_dataset)//batch_size, loss.data[0]))"
      ],
      "execution_count": 428,
      "outputs": [
        {
          "output_type": "stream",
          "text": [
            "Epoch : 1/6, Iter : 100/625,  Loss: 1.7856\n",
            "Epoch : 1/6, Iter : 200/625,  Loss: 1.4811\n",
            "Epoch : 1/6, Iter : 300/625,  Loss: 1.4302\n",
            "Epoch : 1/6, Iter : 400/625,  Loss: 1.3561\n",
            "Epoch : 1/6, Iter : 500/625,  Loss: 1.2578\n",
            "Epoch : 1/6, Iter : 600/625,  Loss: 1.2589\n",
            "Epoch : 2/6, Iter : 100/625,  Loss: 1.1197\n",
            "Epoch : 2/6, Iter : 200/625,  Loss: 1.0507\n",
            "Epoch : 2/6, Iter : 300/625,  Loss: 1.1469\n",
            "Epoch : 2/6, Iter : 400/625,  Loss: 1.1297\n",
            "Epoch : 2/6, Iter : 500/625,  Loss: 1.0495\n",
            "Epoch : 2/6, Iter : 600/625,  Loss: 1.0452\n",
            "Epoch : 3/6, Iter : 100/625,  Loss: 1.1117\n",
            "Epoch : 3/6, Iter : 200/625,  Loss: 0.9082\n",
            "Epoch : 3/6, Iter : 300/625,  Loss: 1.0451\n",
            "Epoch : 3/6, Iter : 400/625,  Loss: 0.9022\n",
            "Epoch : 3/6, Iter : 500/625,  Loss: 0.7991\n",
            "Epoch : 3/6, Iter : 600/625,  Loss: 0.8696\n",
            "Epoch : 4/6, Iter : 100/625,  Loss: 0.8137\n",
            "Epoch : 4/6, Iter : 200/625,  Loss: 0.7578\n",
            "Epoch : 4/6, Iter : 300/625,  Loss: 0.9061\n",
            "Epoch : 4/6, Iter : 400/625,  Loss: 0.9707\n",
            "Epoch : 4/6, Iter : 500/625,  Loss: 0.8514\n",
            "Epoch : 4/6, Iter : 600/625,  Loss: 0.8812\n",
            "Epoch : 5/6, Iter : 100/625,  Loss: 0.7686\n",
            "Epoch : 5/6, Iter : 200/625,  Loss: 0.6663\n",
            "Epoch : 5/6, Iter : 300/625,  Loss: 0.7948\n",
            "Epoch : 5/6, Iter : 400/625,  Loss: 0.7574\n",
            "Epoch : 5/6, Iter : 500/625,  Loss: 0.8169\n",
            "Epoch : 5/6, Iter : 600/625,  Loss: 0.9682\n",
            "Epoch : 6/6, Iter : 100/625,  Loss: 0.7042\n",
            "Epoch : 6/6, Iter : 200/625,  Loss: 0.6861\n",
            "Epoch : 6/6, Iter : 300/625,  Loss: 0.7794\n",
            "Epoch : 6/6, Iter : 400/625,  Loss: 0.7152\n",
            "Epoch : 6/6, Iter : 500/625,  Loss: 0.7188\n",
            "Epoch : 6/6, Iter : 600/625,  Loss: 0.7372\n"
          ],
          "name": "stdout"
        }
      ]
    },
    {
      "metadata": {
        "id": "NGRZSeEzffuJ",
        "colab_type": "code",
        "colab": {
          "base_uri": "https://localhost:8080/",
          "height": 34
        },
        "outputId": "0fdc9ba2-c62a-4f1d-e8db-a5ae02b0bf14"
      },
      "cell_type": "code",
      "source": [
        "#Calculating the Validation dataset accuracy\n",
        "\n",
        "model.eval()\n",
        "correct = 0\n",
        "total = 0\n",
        "for images, labels in valid_loader:\n",
        "    images = Variable(images.cuda())\n",
        "    outputs = model(images)\n",
        "    _, predicted = torch.max(outputs.data, 1)\n",
        "    total += labels.size(0)\n",
        "    correct += (predicted.cpu() == labels.cpu()).sum()\n",
        "print('Test Accuracy of the model on the 10000 valid images: %.4f %%' % (100 * correct / total))"
      ],
      "execution_count": 429,
      "outputs": [
        {
          "output_type": "stream",
          "text": [
            "Test Accuracy of the model on the 10000 valid images: 71.0800 %\n"
          ],
          "name": "stdout"
        }
      ]
    },
    {
      "metadata": {
        "id": "j9cFXDZ3b-SG",
        "colab_type": "code",
        "colab": {
          "base_uri": "https://localhost:8080/",
          "height": 34
        },
        "outputId": "28db11ca-a4e0-4fad-9e0c-f2efb909adf1"
      },
      "cell_type": "code",
      "source": [
        "#Calculating the test dataset accuracy\n",
        "\n",
        "model.eval()\n",
        "correct = 0\n",
        "total = 0\n",
        "for images, labels in test_loader:\n",
        "    images = Variable(images.cuda())\n",
        "    outputs = model(images)\n",
        "    _, predicted = torch.max(outputs.data, 1)\n",
        "    total += labels.size(0)\n",
        "    correct += (predicted.cpu() == labels.cpu()).sum()\n",
        "print('Test Accuracy of the model on the 10000 test images: %.4f %%' % (100 * correct / total))"
      ],
      "execution_count": 430,
      "outputs": [
        {
          "output_type": "stream",
          "text": [
            "Test Accuracy of the model on the 10000 test images: 71.3200 %\n"
          ],
          "name": "stdout"
        }
      ]
    },
    {
      "metadata": {
        "id": "0rhfCjGIcD4c",
        "colab_type": "code",
        "colab": {
          "base_uri": "https://localhost:8080/",
          "height": 295
        },
        "outputId": "608f2b9c-f25f-4176-eba4-6f3ce004a129"
      },
      "cell_type": "code",
      "source": [
        "#Visualizing the optimization LOSS vs Epochs\n",
        "\n",
        "losses_in_epochs = losses[0::600]\n",
        "plt.xkcd()\n",
        "plt.xlabel('Epoch #')\n",
        "plt.ylabel('Loss')\n",
        "plt.plot(losses_in_epochs)\n",
        "plt.show()"
      ],
      "execution_count": 433,
      "outputs": [
        {
          "output_type": "display_data",
          "data": {
            "image/png": "[encoded data removed]",
            "text/plain": [
              "<matplotlib.figure.Figure at 0x7f3d2c947390>"
            ]
          },
          "metadata": {
            "tags": []
          }
        }
      ]
    },
    {
      "metadata": {
        "id": "t2-O9B7Qgc9t",
        "colab_type": "code",
        "colab": {}
      },
      "cell_type": "code",
      "source": [
        ""
      ],
      "execution_count": 0,
      "outputs": []
    }
  ]
}